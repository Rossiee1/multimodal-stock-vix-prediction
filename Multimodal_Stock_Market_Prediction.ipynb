{
  "cells": [
    {
      "cell_type": "markdown",
      "metadata": {
        "id": "view-in-github",
        "colab_type": "text"
      },
      "source": [
        "<a href=\"https://colab.research.google.com/github/Rossiee1/multimodal-stock-vix-prediction/blob/main/Multimodal_Stock_Market_Prediction.ipynb\" target=\"_parent\"><img src=\"https://colab.research.google.com/assets/colab-badge.svg\" alt=\"Open In Colab\"/></a>"
      ]
    },
    {
      "cell_type": "code",
      "execution_count": null,
      "metadata": {
        "id": "QKJtK_Ddtr4D"
      },
      "outputs": [],
      "source": [
        "# !pip install yfinance xgboost scikit-learn tensorflow matplotlib seaborn pandas numpy scipy optuna"
      ]
    },
    {
      "cell_type": "markdown",
      "source": [
        "# Title: Multimodal Stock Market Prediction Using the VIX Index and Historical Price Data\n",
        "#### Models: Random Forest, XGBoost, LSTM\n",
        "#### Goal: Compare \"with VIX\" vs \"without VIX\" model performance with advanced EDA and visualizations"
      ],
      "metadata": {
        "id": "bNkj2RAOSRGB"
      }
    },
    {
      "cell_type": "code",
      "execution_count": null,
      "metadata": {
        "id": "ayRCpEGvtwtI"
      },
      "outputs": [],
      "source": [
        "import numpy as np\n",
        "import pandas as pd\n",
        "import matplotlib as mpl\n",
        "import matplotlib.pyplot as plt\n",
        "import seaborn as sns\n",
        "from datetime import datetime\n",
        "\n",
        "from sklearn.ensemble import RandomForestRegressor\n",
        "from sklearn.metrics import mean_squared_error, mean_absolute_error, r2_score, accuracy_score\n",
        "from sklearn.preprocessing import RobustScaler\n",
        "from sklearn.model_selection import cross_val_score\n",
        "\n",
        "import yfinance as yf\n",
        "import xgboost as xgb\n",
        "import optuna\n",
        "from statsmodels.tsa.stattools import adfuller\n",
        "from statsmodels.tsa.api import VAR\n",
        "\n",
        "import tensorflow as tf\n",
        "from tensorflow.keras.models import Sequential, Model\n",
        "from tensorflow.keras.layers import (LSTM, Dense, Dropout, Bidirectional, LayerNormalization, Input)"
      ]
    },
    {
      "cell_type": "code",
      "execution_count": null,
      "metadata": {
        "id": "DMmaFomst0rn"
      },
      "outputs": [],
      "source": [
        "import warnings\n",
        "warnings.filterwarnings('ignore')"
      ]
    },
    {
      "cell_type": "code",
      "execution_count": null,
      "metadata": {
        "id": "OAqVznx8sAvE"
      },
      "outputs": [],
      "source": [
        "plt.style.use('bmh')\n",
        "# sns.set_palette('tab10')\n",
        "\n",
        "\n",
        "mpl.rcParams.update({\n",
        "    # figure & axes text\n",
        "    'text.color':           'black',\n",
        "    'axes.labelcolor':      'black',\n",
        "    'axes.titlecolor':      'black',\n",
        "    # tick labels\n",
        "    'xtick.color':          'black',\n",
        "    'ytick.color':          'black',\n",
        "    # legend\n",
        "    'legend.edgecolor':     'black',\n",
        "    'legend.facecolor':     'white',\n",
        "    'legend.frameon':       True,\n",
        "    # any other annotations, etc.\n",
        "})\n"
      ]
    },
    {
      "cell_type": "code",
      "execution_count": null,
      "metadata": {
        "id": "zubJAb4JsDH-"
      },
      "outputs": [],
      "source": [
        "SEED = 42\n",
        "np.random.seed(SEED)\n",
        "tf.random.set_seed(SEED)\n",
        "\n",
        "TICKERS = [\"AAPL\", \"MSFT\", \"MAR\", \"KO\", \"COST\", \"DAL\", \"EFX\", \"EQIX\", \"XOM\"]\n",
        "VIX_TICKER = '^VIX'\n",
        "START_DATE = '2013-01-01'\n",
        "END_DATE = '2024-12-31'"
      ]
    },
    {
      "cell_type": "code",
      "execution_count": null,
      "metadata": {
        "id": "8RwCJEXksNSp"
      },
      "outputs": [],
      "source": [
        "# DATA FETCHING\n",
        "def get_data():\n",
        "    df_all = yf.download(TICKERS + [VIX_TICKER], start=START_DATE, end=END_DATE)['Close']\n",
        "    df = df_all[TICKERS].copy()\n",
        "    df['VIX'] = df_all[VIX_TICKER]\n",
        "    return df.dropna()"
      ]
    },
    {
      "cell_type": "code",
      "execution_count": null,
      "metadata": {
        "id": "etiHi4hssOfS"
      },
      "outputs": [],
      "source": [
        "# STATIONARITY (ADF) TEST\n",
        "def adf_test(series, name):\n",
        "    result = adfuller(series.dropna())\n",
        "    print(f\"ADF Test for {name}\")\n",
        "    print(f\"  ADF Statistic: {result[0]:.4f}, p-value: {result[1]:.4f}\")\n",
        "    for k, v in result[4].items():\n",
        "        print(f\"    {k}: {v:.4f}\")\n",
        "    print(f\"  => {'stationary' if result[1]<0.05 else 'non-stationary'}\\n\")"
      ]
    },
    {
      "cell_type": "code",
      "execution_count": null,
      "metadata": {
        "id": "BMGo4tbPsQq4"
      },
      "outputs": [],
      "source": [
        "# FEATURE ENGINEERING + VIX INTERACTIONS + REGIME FLAG\n",
        "def create_features(df, ticker, use_vix=True):\n",
        "    df_t = df[[ticker]].rename(columns={ticker: 'Close'}).copy()\n",
        "    # Returns & volatility\n",
        "    df_t['LogReturn'] = np.log(df_t['Close']/df_t['Close'].shift(1))\n",
        "    df_t['Return']    = df_t['Close'].pct_change()\n",
        "    df_t['Volatility']= df_t['Return'].rolling(5).std()\n",
        "    for lag in [1,5]:\n",
        "        df_t[f'Return_lag{lag}'] = df_t['Return'].shift(lag)\n",
        "    df_t['Return_Mean5'] = df_t['Return'].rolling(5).mean()\n",
        "    df_t['Return_Z5']    = (df_t['Return'] - df_t['Return_Mean5']) / df_t['Return'].rolling(5).std()\n",
        "    # RSI & Bollinger\n",
        "    delta = df_t['Close'].diff()\n",
        "    up, down = delta.clip(lower=0), -delta.clip(upper=0)\n",
        "    df_t['RSI']   = 100 - 100/(1 + up.rolling(14).mean()/down.rolling(14).mean())\n",
        "    df_t['MA20']  = df_t['Close'].rolling(20).mean()\n",
        "    df_t['STD20'] = df_t['Close'].rolling(20).std()\n",
        "    df_t['UpperBB']= df_t['MA20'] + 2*df_t['STD20']\n",
        "    df_t['LowerBB']= df_t['MA20'] - 2*df_t['STD20']\n",
        "    if use_vix:\n",
        "        df_t['VIX'] = df['VIX']\n",
        "        # VIX features\n",
        "        df_t['VIX_MA5']       = df_t['VIX'].rolling(5).mean()\n",
        "        df_t['VIX_Mom5']      = df_t['VIX'] - df_t['VIX'].shift(5)\n",
        "        for lag in [1,5]: df_t[f'VIX_lag{lag}'] = df_t['VIX'].shift(lag)\n",
        "        # Cross-interactions\n",
        "        df_t['Ret1_x_VIX1'] = df_t['Return_lag1'] * df_t['VIX_lag1']\n",
        "        df_t['Ret5_x_VIX5'] = df_t['Return_lag5'] * df_t['VIX_lag5']\n",
        "        # Regime flag: high-vol if VIX above rolling 75th pct\n",
        "        df_t['VIX_P75'] = df_t['VIX'].rolling(252).quantile(0.75)\n",
        "        df_t['HighVIX'] = (df_t['VIX'] > df_t['VIX_P75']).astype(int)\n",
        "    return df_t.dropna()"
      ]
    },
    {
      "cell_type": "code",
      "execution_count": null,
      "metadata": {
        "id": "8WDOcwUIwEPo"
      },
      "outputs": [],
      "source": [
        "def plot_train_test_split(df, split_date, ticker, use_vix):\n",
        "    plt.figure(figsize=(14, 5))\n",
        "    plt.plot(df.index, df['Return'], label='Returns', alpha=0.6)\n",
        "    plt.axvspan(split_date, df.index[-1], color='black', alpha=0.2, label='Test Period')\n",
        "    plt.title(f\"{ticker} Return Over Time - {'With' if use_vix else 'Without'} VIX (Train/Test Split)\")\n",
        "    plt.xlabel(\"Date\")\n",
        "    plt.ylabel(\"Return\")\n",
        "    plt.legend()\n",
        "    plt.grid(True)\n",
        "    plt.tight_layout()\n",
        "    plt.show()"
      ]
    },
    {
      "cell_type": "code",
      "execution_count": null,
      "metadata": {
        "id": "rr8_gpREsSeg"
      },
      "outputs": [],
      "source": [
        "# CORRELATION HEATMAP\n",
        "def plot_corr_heatmap(df_feat, ticker, use_vix):\n",
        "    feats = [c for c in df_feat.columns if c not in ['Close']]\n",
        "    corr = df_feat[feats].corr()\n",
        "    plt.figure(figsize=(20,14))\n",
        "    sns.heatmap(corr, annot=True, fmt='.2f', cmap='coolwarm')\n",
        "    plt.title(f\"Correlation Heatmap - {ticker} {'with' if use_vix else 'without'} VIX\")\n",
        "    plt.tight_layout(); plt.show()"
      ]
    },
    {
      "cell_type": "code",
      "execution_count": null,
      "metadata": {
        "id": "x6tMwViTzHIb"
      },
      "outputs": [],
      "source": [
        "# DATA PREP for RF/XGB\n",
        "def prepare_data(df_feat, use_vix=True):\n",
        "    drop_cols = ['Close'] + (['HighVIX','VIX_P75'] if use_vix else [])\n",
        "    X = df_feat.drop(columns=drop_cols + ['Return']).copy()\n",
        "    y = df_feat['Return'].shift(-1).dropna()\n",
        "    X = X.iloc[:-1]\n",
        "    scaler = RobustScaler()\n",
        "    Xs = scaler.fit_transform(X)\n",
        "    split = int(0.8 * len(Xs))\n",
        "    dates = df_feat.index[split+1:]\n",
        "    return Xs[:split], Xs[split:], y[:split], y[split:], dates"
      ]
    },
    {
      "cell_type": "code",
      "execution_count": null,
      "metadata": {
        "id": "QxSsmdcIzJSL"
      },
      "outputs": [],
      "source": [
        "# REGIME SPLIT\n",
        "def split_by_regime(df_feat):\n",
        "    high = df_feat[df_feat['HighVIX']==1]\n",
        "    low  = df_feat[df_feat['HighVIX']==0]\n",
        "    return low, high"
      ]
    },
    {
      "cell_type": "code",
      "execution_count": null,
      "metadata": {
        "id": "prSmgQsKsUQj"
      },
      "outputs": [],
      "source": [
        "# XGBOOST TUNING via Optuna\n",
        "def tune_xgb(X_train, y_train):\n",
        "    def objective(trial):\n",
        "        params = {\n",
        "            'n_estimators': trial.suggest_int('n_estimators', 50, 300),\n",
        "            'learning_rate': trial.suggest_loguniform('learning_rate', 0.01, 0.3),\n",
        "            'max_depth': trial.suggest_int('max_depth', 3, 10)\n",
        "        }\n",
        "        model = xgb.XGBRegressor(**params, random_state=SEED)\n",
        "        score = cross_val_score(model, X_train, y_train, cv=3,\n",
        "                                scoring='neg_mean_squared_error').mean()\n",
        "        return score\n",
        "    study = optuna.create_study(direction='maximize', sampler=optuna.samplers.TPESampler(seed=SEED))\n",
        "    study.optimize(objective, n_trials=20)\n",
        "    best = study.best_params\n",
        "    print(\"Best XGBoost params:\", best)\n",
        "    model = xgb.XGBRegressor(**best, random_state=SEED)\n",
        "    model.fit(X_train, y_train)\n",
        "    return model"
      ]
    },
    {
      "cell_type": "code",
      "execution_count": null,
      "metadata": {
        "id": "r06T6ArIsVq7"
      },
      "outputs": [],
      "source": [
        "# VECTOR AUTOREGRESSION (VAR)\n",
        "def run_var(df_raw, maxlags=5):\n",
        "    df_lr = np.log(df_raw/df_raw.shift(1)).dropna()\n",
        "    model = VAR(df_lr)\n",
        "    sel = model.select_order(maxlags)\n",
        "    p = sel.selected_orders['aic']\n",
        "    print(f\"VAR lag order (AIC): {p}\")\n",
        "    res = model.fit(p)\n",
        "    print(res.summary())\n",
        "    fc = res.forecast(df_lr.values[-p:], steps=5)\n",
        "    idx = pd.date_range(df_lr.index[-1], periods=6, freq='B')[1:]\n",
        "    fc_df = pd.DataFrame(fc, index=idx, columns=df_lr.columns)\n",
        "    print(\"VAR 5-day forecast (log-returns):\\n\", fc_df)\n",
        "    return res, fc_df"
      ]
    },
    {
      "cell_type": "code",
      "execution_count": null,
      "metadata": {
        "id": "fLOoPBG_sXxC"
      },
      "outputs": [],
      "source": [
        "# EVALUATION & PLOTTING\n",
        "def evaluate(y_test, y_pred, model_name, dates, context):\n",
        "    rmse = np.sqrt(mean_squared_error(y_test, y_pred))\n",
        "    mae  = mean_absolute_error(y_test, y_pred)\n",
        "    r2   = r2_score(y_test, y_pred)\n",
        "    acc  = accuracy_score((y_test>0).astype(int), (y_pred>0).astype(int))\n",
        "    print(f\"{model_name} ({context}) -> RMSE: {rmse:.5f}, MAE: {mae:.5f}, R2: {r2:.5f}, DirAcc: {acc:.3f}\")\n",
        "    plt.figure(figsize=(12,5))\n",
        "    plt.plot(dates, y_test, label='Actual'); plt.plot(dates, y_pred, label='Pred');\n",
        "    plt.title(f\"{model_name} Predictions vs Actual ({context})\");\n",
        "    plt.legend(); plt.tight_layout(); plt.show()\n",
        "    plt.figure(figsize=(8,4))\n",
        "    sns.histplot(y_test - y_pred, bins=30, kde=True)\n",
        "    plt.title(f\"{model_name} Residuals ({context})\"); plt.tight_layout(); plt.show()\n",
        "    return {'Model':model_name,'Context':context,'RMSE':rmse,'MAE':mae,'R2':r2,'DirAcc':acc}\n"
      ]
    },
    {
      "cell_type": "code",
      "execution_count": null,
      "metadata": {
        "id": "Qv74jHx4sl__"
      },
      "outputs": [],
      "source": [
        "# MODELS: RF, XGB, LSTM\n",
        "def run_rf(X_train, X_test, y_train, y_test, dates, context):\n",
        "    m = RandomForestRegressor(n_estimators=100, random_state=SEED)\n",
        "    m.fit(X_train, y_train)\n",
        "    return evaluate(y_test, m.predict(X_test), 'RandomForest', dates, context)\n",
        "\n",
        "def run_xgb(X_train, X_test, y_train, y_test, dates, context):\n",
        "    print(\"Tuning XGBoost...\")\n",
        "    m = tune_xgb(X_train, y_train)\n",
        "    return evaluate(y_test, m.predict(X_test), 'XGBoost', dates, context)\n",
        "\n",
        "def create_lstm_sequences(X, y, seq_len=20):\n",
        "    Xs, ys = [], []\n",
        "    for i in range(seq_len, len(X)):\n",
        "        Xs.append(X[i-seq_len:i]); ys.append(y[i])\n",
        "    return np.array(Xs), np.array(ys)\n",
        "\n",
        "def run_lstm(X_train, X_test, y_train, y_test, dates, context):\n",
        "    seq = 20\n",
        "    Xtr, ytr = create_lstm_sequences(X_train, y_train.values, seq)\n",
        "    Xte, yte = create_lstm_sequences(X_test,  y_test.values,  seq)\n",
        "    dt = dates[seq:]\n",
        "    # build model\n",
        "    inp = Input(shape=(seq, X_train.shape[1]))\n",
        "    x = LayerNormalization()(inp)\n",
        "    x = Bidirectional(LSTM(64, return_sequences=True))(x)\n",
        "    x = Dropout(0.3)(x)\n",
        "    x = Bidirectional(LSTM(32))(x)\n",
        "    x = Dropout(0.3)(x)\n",
        "    out = Dense(1)(x)\n",
        "    model = Model(inp, out)\n",
        "    model.compile(optimizer='adam', loss='mse')\n",
        "    hist = model.fit(Xtr, ytr, validation_split=0.2, epochs=30,\n",
        "                     batch_size=32, verbose=0)\n",
        "    # training curves\n",
        "    plt.figure();\n",
        "    plt.plot(hist.history['loss'], label='train');\n",
        "    plt.plot(hist.history['val_loss'], label='val');\n",
        "    plt.title(f\"LSTM Loss ({context})\"); plt.legend(); plt.tight_layout(); plt.show()\n",
        "    preds = model.predict(Xte).flatten()\n",
        "    return evaluate(pd.Series(yte), pd.Series(preds), 'LSTM', dt, context)"
      ]
    },
    {
      "cell_type": "code",
      "execution_count": null,
      "metadata": {
        "id": "f9GoOzl1s7a1"
      },
      "outputs": [],
      "source": [
        "df_raw = get_data()"
      ]
    },
    {
      "cell_type": "code",
      "execution_count": null,
      "metadata": {
        "id": "uzODXdDIs_lt"
      },
      "outputs": [],
      "source": [
        "print(\"\\n=== VAR PANEL ANALYSIS ===\")\n",
        "run_var(df_raw)"
      ]
    },
    {
      "cell_type": "code",
      "execution_count": null,
      "metadata": {
        "id": "rSgSYKBItCA9"
      },
      "outputs": [],
      "source": [
        "results = []\n",
        "\n",
        "for ticker in TICKERS:\n",
        "    for use_vix in [True, False]:\n",
        "        ctx_base = f\"{ticker} - {'With' if use_vix else 'Without'} VIX\"\n",
        "        print(f\"\\n>>> Processing {ctx_base}\")\n",
        "\n",
        "        df_feat = create_features(df_raw, ticker, use_vix)\n",
        "\n",
        "        # EDA\n",
        "        adf_test(df_feat['Close'], f\"{ticker} Close\")\n",
        "        adf_test(df_feat['Return'], f\"{ticker} Return\")\n",
        "        plot_corr_heatmap(df_feat, ticker, use_vix)\n",
        "\n",
        "        # Regime-aware modeling\n",
        "        if use_vix:\n",
        "            low_df, high_df = split_by_regime(df_feat)\n",
        "            for df_reg, label in [(low_df, 'LowVIX'), (high_df, 'HighVIX')]:\n",
        "                Xtr, Xte, ytr, yte, dates = prepare_data(df_reg, True)\n",
        "                ctx = f\"{ctx_base} - {label}\"\n",
        "\n",
        "                # ✅ FIX: use df_reg.index instead of df_feat.index\n",
        "                split_date = df_reg.index[int(0.8 * len(df_reg))]\n",
        "                plot_train_test_split(df_reg, split_date, ticker, use_vix)\n",
        "\n",
        "                results.append(run_rf(Xtr, Xte, ytr, yte, dates, ctx))\n",
        "                results.append(run_xgb(Xtr, Xte, ytr, yte, dates, ctx))\n",
        "                results.append(run_lstm(Xtr, Xte, ytr, yte, dates, ctx))\n",
        "        else:\n",
        "            Xtr, Xte, ytr, yte, dates = prepare_data(df_feat, False)\n",
        "            ctx = ctx_base\n",
        "\n",
        "            split_date = df_feat.index[int(0.8 * len(df_feat))]  # ✅ Correct\n",
        "            plot_train_test_split(df_feat, split_date, ticker, use_vix)\n",
        "\n",
        "            results.append(run_rf(Xtr, Xte, ytr, yte, dates, ctx))\n",
        "            results.append(run_xgb(Xtr, Xte, ytr, yte, dates, ctx))\n",
        "            results.append(run_lstm(Xtr, Xte, ytr, yte, dates, ctx))\n"
      ]
    },
    {
      "cell_type": "code",
      "execution_count": null,
      "metadata": {
        "id": "rZSLaDe2tEyU"
      },
      "outputs": [],
      "source": [
        "df_res = pd.DataFrame(results)\n",
        "df_res.to_csv('model_comparison_regime.csv', index=False)"
      ]
    },
    {
      "cell_type": "code",
      "execution_count": null,
      "metadata": {
        "id": "k-3eT4jytGuO"
      },
      "outputs": [],
      "source": [
        "print(\"\\n=== SUMMARY RESULTS ===\")\n",
        "df_res"
      ]
    },
    {
      "cell_type": "code",
      "execution_count": null,
      "metadata": {
        "id": "rUFy4wJktJLh"
      },
      "outputs": [],
      "source": [
        "# Comparison plots\n",
        "plt.figure(figsize=(14, 6))\n",
        "sns.barplot(data=df_res, x='Model', y='RMSE', hue='Context')\n",
        "plt.title('RMSE Comparison')\n",
        "plt.tight_layout()\n",
        "plt.show()"
      ]
    },
    {
      "cell_type": "code",
      "execution_count": null,
      "metadata": {
        "id": "fdCEM0oDtKcw"
      },
      "outputs": [],
      "source": [
        "plt.figure(figsize=(14, 6))\n",
        "sns.barplot(data=df_res, x='Model', y='DirAcc', hue='Context')\n",
        "plt.title('Directional Accuracy Comparison')\n",
        "plt.tight_layout()\n",
        "plt.show()"
      ]
    },
    {
      "cell_type": "code",
      "source": [
        "df_res.head()"
      ],
      "metadata": {
        "id": "rVpNnZsaWcRe"
      },
      "execution_count": null,
      "outputs": []
    },
    {
      "cell_type": "code",
      "source": [
        "def plot_return_split_and_vix_regime(df: pd.DataFrame, split_date: pd.Timestamp, ticker: str, use_vix: bool):\n",
        "    \"\"\"\n",
        "    Plots return and VIX over time with shaded test region. Skips plot if VIX is missing.\n",
        "    \"\"\"\n",
        "    required_cols = ['Return', 'VIX']\n",
        "    if not all(col in df.columns for col in required_cols):\n",
        "        print(f\"⚠️ Skipping regime plot for {ticker} - VIX not present.\")\n",
        "        return\n",
        "\n",
        "    df = df.copy()\n",
        "    df = df.dropna(subset=required_cols)\n",
        "\n",
        "    title = f\"{ticker} Return & VIX Regime Comparison - {'With VIX' if use_vix else 'Without VIX'}\"\n",
        "\n",
        "    fig, ax1 = plt.subplots(figsize=(14, 5))\n",
        "\n",
        "    ax1.plot(df.index, df['Return'], label='Daily Return', color='tab:blue', linewidth=1.5)\n",
        "    ax1.set_ylabel(\"Return\", color='tab:blue')\n",
        "    ax1.tick_params(axis='y', labelcolor='tab:blue')\n",
        "\n",
        "    ax1.axvspan(split_date, df.index[-1], color='gray', alpha=0.15, label='Test Period')\n",
        "\n",
        "    ax2 = ax1.twinx()\n",
        "    ax2.plot(df.index, df['VIX'], label='VIX Index', color='tab:red', linestyle='--')\n",
        "    ax2.set_ylabel(\"VIX\", color='tab:red')\n",
        "    ax2.tick_params(axis='y', labelcolor='tab:red')\n",
        "\n",
        "    fig.suptitle(title, fontsize=14)\n",
        "    fig.legend(loc='upper left', bbox_to_anchor=(0.1, 0.9))\n",
        "    plt.grid(True)\n",
        "    plt.tight_layout()\n",
        "    plt.show()\n"
      ],
      "metadata": {
        "id": "24qmI_KBWSB2"
      },
      "execution_count": null,
      "outputs": []
    },
    {
      "cell_type": "code",
      "source": [
        "# Example for AAPL with VIX\n",
        "ticker = 'AAPL'\n",
        "use_vix = True\n",
        "\n",
        "# Recreate feature set\n",
        "df_feat = create_features(df_raw, ticker, use_vix)\n",
        "\n",
        "# Drop NA (if needed) and calculate 80/20 split\n",
        "split_date = df_feat.index[int(0.8 * len(df_feat))]\n",
        "\n",
        "# Call the plot function\n",
        "plot_return_split_and_vix_regime(df_feat, split_date, ticker, use_vix)"
      ],
      "metadata": {
        "id": "E9I7ccQbWown"
      },
      "execution_count": null,
      "outputs": []
    },
    {
      "cell_type": "code",
      "source": [
        "df_feat.head(10)"
      ],
      "metadata": {
        "id": "VkIJhIW2ZYCz"
      },
      "execution_count": null,
      "outputs": []
    },
    {
      "cell_type": "code",
      "source": [
        "df_feat.index.min()  # Check first date"
      ],
      "metadata": {
        "id": "t22maWwDZcJ9"
      },
      "execution_count": null,
      "outputs": []
    },
    {
      "cell_type": "markdown",
      "source": [
        "## Results"
      ],
      "metadata": {
        "id": "JS00suuTdl-J"
      }
    },
    {
      "cell_type": "code",
      "source": [
        "results = []\n",
        "\n",
        "for ticker in TICKERS:\n",
        "    for use_vix in [True, False]:\n",
        "        ctx_base = f\"{ticker} - {'With' if use_vix else 'Without'} VIX\"\n",
        "        print(f\"\\n>>> Processing {ctx_base}\")\n",
        "\n",
        "        df_feat = create_features(df_raw, ticker, use_vix)\n",
        "\n",
        "        # EDA\n",
        "        adf_test(df_feat['Close'], f\"{ticker} Close\")\n",
        "        adf_test(df_feat['Return'], f\"{ticker} Return\")\n",
        "        plot_corr_heatmap(df_feat, ticker, use_vix)\n",
        "\n",
        "        # Regime-aware modeling\n",
        "        if use_vix:\n",
        "            low_df, high_df = split_by_regime(df_feat)\n",
        "            for df_reg, label in [(low_df, 'LowVIX'), (high_df, 'HighVIX')]:\n",
        "                Xtr, Xte, ytr, yte, dates = prepare_data(df_reg, True)\n",
        "                ctx = f\"{ctx_base} - {label}\"\n",
        "\n",
        "                # ✅ FIX: use df_reg.index instead of df_feat.index\n",
        "                split_date = df_reg.index[int(0.8 * len(df_reg))]\n",
        "                plot_train_test_split(df_reg, split_date, ticker, use_vix)\n",
        "\n",
        "                results.append(run_rf(Xtr, Xte, ytr, yte, dates, ctx))\n",
        "                results.append(run_xgb(Xtr, Xte, ytr, yte, dates, ctx))\n",
        "                results.append(run_lstm(Xtr, Xte, ytr, yte, dates, ctx))\n",
        "        else:\n",
        "            Xtr, Xte, ytr, yte, dates = prepare_data(df_feat, False)\n",
        "            ctx = ctx_base\n",
        "\n",
        "            split_date = df_feat.index[int(0.8 * len(df_feat))]  # ✅ Correct\n",
        "            plot_train_test_split(df_feat, split_date, ticker, use_vix)\n",
        "\n",
        "            results.append(run_rf(Xtr, Xte, ytr, yte, dates, ctx))\n",
        "            results.append(run_xgb(Xtr, Xte, ytr, yte, dates, ctx))\n",
        "            results.append(run_lstm(Xtr, Xte, ytr, yte, dates, ctx))\n"
      ],
      "metadata": {
        "id": "NY1Mp4CCdmlB"
      },
      "execution_count": null,
      "outputs": []
    },
    {
      "cell_type": "code",
      "source": [
        "# Example for AAPL with VIX\n",
        "ticker = 'AAPL'\n",
        "use_vix = True\n",
        "\n",
        "# Recreate feature set\n",
        "df_feat = create_features(df_raw, ticker, use_vix)\n",
        "\n",
        "# Drop NA (if needed) and calculate 80/20 split\n",
        "split_date = df_feat.index[int(0.8 * len(df_feat))]\n",
        "\n",
        "# Call the plot function\n",
        "plot_return_split_and_vix_regime(df_feat, split_date, ticker, use_vix)"
      ],
      "metadata": {
        "id": "lB10uf2mdne1"
      },
      "execution_count": null,
      "outputs": []
    },
    {
      "cell_type": "code",
      "source": [],
      "metadata": {
        "id": "aYa113VndvRT"
      },
      "execution_count": null,
      "outputs": []
    }
  ],
  "metadata": {
    "colab": {
      "provenance": [],
      "include_colab_link": true
    },
    "kernelspec": {
      "display_name": "Python 3",
      "name": "python3"
    },
    "language_info": {
      "name": "python"
    }
  },
  "nbformat": 4,
  "nbformat_minor": 0
}